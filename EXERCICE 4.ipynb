{
 "cells": [
  {
   "cell_type": "code",
   "execution_count": 1,
   "metadata": {},
   "outputs": [
    {
     "name": "stdout",
     "output_type": "stream",
     "text": [
      "enter your word :hilmi\n",
      "type the index of the number that you want to delete :!2\n",
      "hlmi\n"
     ]
    },
    {
     "data": {
      "text/plain": [
       "'hlmi'"
      ]
     },
     "execution_count": 1,
     "metadata": {},
     "output_type": "execute_result"
    }
   ],
   "source": [
    "#EXERCICE 4\n",
    "\n",
    "def missing():\n",
    "    word= str(input(\"enter your word :\"))\n",
    "    n = -1\n",
    "    while not n in range(0,len(word)):\n",
    "        n = int(input(\"type the index of the number that you want to delete :!\"))\n",
    "    word = word[:n-1] + word[(n):]\n",
    "    print(word)\n",
    "    return word\n",
    "missing()"
   ]
  }
 ],
 "metadata": {
  "kernelspec": {
   "display_name": "Python 3",
   "language": "python",
   "name": "python3"
  },
  "language_info": {
   "codemirror_mode": {
    "name": "ipython",
    "version": 3
   },
   "file_extension": ".py",
   "mimetype": "text/x-python",
   "name": "python",
   "nbconvert_exporter": "python",
   "pygments_lexer": "ipython3",
   "version": "3.8.5"
  }
 },
 "nbformat": 4,
 "nbformat_minor": 4
}
