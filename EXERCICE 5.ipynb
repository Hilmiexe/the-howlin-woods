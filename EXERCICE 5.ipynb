{
 "cells": [
  {
   "cell_type": "code",
   "execution_count": 47,
   "metadata": {},
   "outputs": [
    {
     "name": "stdout",
     "output_type": "stream",
     "text": [
      "original array elements : [[0 1]\n",
      " [1 2]]\n",
      "Array to list :\n",
      "[[0, 1], [1, 2]]\n"
     ]
    }
   ],
   "source": [
    "import numpy as np\n",
    "print(\"original array elements :\",x)\n",
    "x = np.array ([[0,1],[1,2]])\n",
    "print(\"Array to list :\")\n",
    "mylist= x.tolist()\n",
    "print(mylist)"
   ]
  },
  {
   "cell_type": "code",
   "execution_count": null,
   "metadata": {},
   "outputs": [],
   "source": []
  }
 ],
 "metadata": {
  "kernelspec": {
   "display_name": "Python 3",
   "language": "python",
   "name": "python3"
  },
  "language_info": {
   "codemirror_mode": {
    "name": "ipython",
    "version": 3
   },
   "file_extension": ".py",
   "mimetype": "text/x-python",
   "name": "python",
   "nbconvert_exporter": "python",
   "pygments_lexer": "ipython3",
   "version": "3.8.5"
  }
 },
 "nbformat": 4,
 "nbformat_minor": 4
}
