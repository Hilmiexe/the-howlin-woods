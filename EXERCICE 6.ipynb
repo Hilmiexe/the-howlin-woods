{
 "cells": [
  {
   "cell_type": "code",
   "execution_count": 5,
   "metadata": {},
   "outputs": [
    {
     "name": "stdout",
     "output_type": "stream",
     "text": [
      "type a :0\n",
      "type b :1\n",
      "type c :2\n",
      "Original array1:\n",
      "[0 1 2]\n",
      "Original array1:\n",
      "[2 1 0]\n",
      "\n",
      "Covariance matrix of the said arrays: [[ 1. -1.]\n",
      " [-1.  1.]]\n"
     ]
    },
    {
     "data": {
      "text/plain": [
       "(array([0, 1, 2]), array([2, 1, 0]))"
      ]
     },
     "execution_count": 5,
     "metadata": {},
     "output_type": "execute_result"
    }
   ],
   "source": [
    "#EXERCICE 6\n",
    "a=int(input(\"type a :\"))\n",
    "b=int(input(\"type b :\"))\n",
    "c=int(input(\"type c :\"))\n",
    "x = np.array([a, b, c])\n",
    "y = np.array([c, b, a])\n",
    "import numpy as np\n",
    "def Matrix (x,y) :\n",
    "    print(\"Original array1:\")\n",
    "    print(x)\n",
    "    print(\"Original array1:\")\n",
    "    print(y)\n",
    "    print(\"\\nCovariance matrix of the said arrays:\",np.cov(x, y))\n",
    "    return (x,y)\n",
    "Matrix(x,y)"
   ]
  }
 ],
 "metadata": {
  "kernelspec": {
   "display_name": "Python 3",
   "language": "python",
   "name": "python3"
  },
  "language_info": {
   "codemirror_mode": {
    "name": "ipython",
    "version": 3
   },
   "file_extension": ".py",
   "mimetype": "text/x-python",
   "name": "python",
   "nbconvert_exporter": "python",
   "pygments_lexer": "ipython3",
   "version": "3.8.5"
  }
 },
 "nbformat": 4,
 "nbformat_minor": 4
}
